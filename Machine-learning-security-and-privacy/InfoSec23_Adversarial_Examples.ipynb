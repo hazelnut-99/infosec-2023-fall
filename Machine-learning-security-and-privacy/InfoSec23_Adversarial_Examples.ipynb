{
  "nbformat": 4,
  "nbformat_minor": 0,
  "metadata": {
    "colab": {
      "provenance": [],
      "collapsed_sections": [
        "KHhM612yjnBu",
        "m9myeLu4a5xB",
        "3y_q-ox3c_qb",
        "ag6TwSfy_Y8Z"
      ]
    },
    "kernelspec": {
      "name": "python3",
      "display_name": "Python 3"
    },
    "language_info": {
      "name": "python"
    },
    "accelerator": "GPU",
    "gpuClass": "standard"
  },
  "cells": [
    {
      "cell_type": "markdown",
      "source": [
        "#Setup"
      ],
      "metadata": {
        "id": "6xO-XBsYMOiR"
      }
    },
    {
      "cell_type": "code",
      "source": [
        "use_gdrive = True # @param {type:\"boolean\"}\n",
        "\n",
        "RESULTS_PATH = \"results1\"\n",
        "\n",
        "if use_gdrive:\n",
        "  try:\n",
        "    # mount your google drive to get permanent storage for your results\n",
        "    from google.colab import drive\n",
        "    drive.mount('/content/drive')\n",
        "\n",
        "    RESULTS_PATH = \"/content/drive/MyDrive/infoseclab23/results1\"\n",
        "  except ModuleNotFoundError:\n",
        "    print(\"failed to mount gdrive\")\n",
        "else:\n",
        "  print(f\"saving results to '{RESULTS_PATH}'. If you're using Google Colab, this folder will be deleted when you disconnect!\")\n",
        "\n",
        "!mkdir -p {RESULTS_PATH}"
      ],
      "metadata": {
        "id": "BHkSCcGWfkls",
        "colab": {
          "base_uri": "https://localhost:8080/"
        },
        "outputId": "6188a68e-c944-43ec-e0d8-e58339b50b46"
      },
      "execution_count": 1,
      "outputs": [
        {
          "output_type": "stream",
          "name": "stdout",
          "text": [
            "Mounted at /content/drive\n"
          ]
        }
      ]
    },
    {
      "cell_type": "code",
      "execution_count": 2,
      "metadata": {
        "id": "aCjvBq6rL0n1",
        "colab": {
          "base_uri": "https://localhost:8080/"
        },
        "outputId": "62ddf388-5f36-4b25-ba56-afffdb1d02af"
      },
      "outputs": [
        {
          "output_type": "stream",
          "name": "stdout",
          "text": [
            "Cloning into 'infoseclab_23'...\n",
            "remote: Enumerating objects: 34, done.\u001b[K\n",
            "remote: Counting objects: 100% (4/4), done.\u001b[K\n",
            "remote: Compressing objects: 100% (4/4), done.\u001b[K\n",
            "remote: Total 34 (delta 0), reused 2 (delta 0), pack-reused 30\u001b[K\n",
            "Receiving objects: 100% (34/34), 268.09 MiB | 46.15 MiB/s, done.\n",
            "Resolving deltas: 100% (1/1), done.\n",
            "Updating files: 100% (25/25), done.\n",
            "/content/infoseclab_23\n",
            "From https://github.com/ethz-spylab/infoseclab_23\n",
            " * branch            HEAD       -> FETCH_HEAD\n",
            "Already up to date.\n",
            "/content\n"
          ]
        }
      ],
      "source": [
        "import sys\n",
        "\n",
        "# Lab files\n",
        "![ ! -d 'infoseclab_23' ] && git clone https://github.com/ethz-spylab/infoseclab_23.git\n",
        "%cd infoseclab_23\n",
        "!git pull https://github.com/ethz-spylab/infoseclab_23.git\n",
        "%cd ..\n",
        "if \"infoseclab_23\" not in sys.path:\n",
        "  sys.path.append(\"infoseclab_23\")"
      ]
    },
    {
      "cell_type": "markdown",
      "source": [
        "#Imports"
      ],
      "metadata": {
        "id": "LXC5q0RvNhhh"
      }
    },
    {
      "cell_type": "code",
      "source": [
        "import torch\n",
        "import numpy as np\n",
        "import infoseclab\n",
        "from infoseclab import defenses, ImageNet, EPSILON, utils, evaluation\n",
        "import os\n",
        "from zipfile import ZipFile\n",
        "\n",
        "device = \"cuda\""
      ],
      "metadata": {
        "id": "Uwi_QoU9Nguf"
      },
      "execution_count": 3,
      "outputs": []
    },
    {
      "cell_type": "markdown",
      "source": [
        "# 0.&nbsp; A quick primer on constrained optimization in PyTorch\n",
        "\n",
        "To get a feel for how to optimize functions in PyTorch over a domain, below we solve a simple 1-dimensional function mimization problem.\n",
        "\n",
        "We want to find the minimum of $f(x)$ under the constraint $x \\in [-1, 1]$.\n",
        "\n",
        "(the actual minimimum is at $x=\\sqrt{2/3} \\approx 0.8165$ and has value $f(x) \\approx -6.089$)."
      ],
      "metadata": {
        "id": "KHhM612yjnBu"
      }
    },
    {
      "cell_type": "code",
      "source": [
        "# the function we want to minimize\n",
        "def f(x):\n",
        "  return x**3 - 2*x - 5\n",
        "\n",
        "# our starting point\n",
        "x = torch.zeros(1).to(device)\n",
        "\n",
        "for i in range(20):\n",
        "  x = x.requires_grad_(True)  # we want to take gradients with respect to x\n",
        "\n",
        "  objective = f(x)            # compute the current objective\n",
        "  objective.backward()        # take the gradient of the objective with respect to all inputs\n",
        "  grad = x.grad.detach()      # get the value of the gradient with respect to x\n",
        "\n",
        "  print(f\"step {i}: f({x.item():.2f}) = {objective.item():.2f}\")\n",
        "\n",
        "  with torch.no_grad():\n",
        "    x = x - 0.05 * torch.sign(grad)  # take a gradient update step to minimize the objective\n",
        "    x = torch.clamp(x, -1, 1)        # ensure we stay in the allowed range"
      ],
      "metadata": {
        "colab": {
          "base_uri": "https://localhost:8080/"
        },
        "id": "tIsix6s_jmbN",
        "outputId": "f57d4c6c-dab1-4f8f-c3b3-a7f00a5c0584"
      },
      "execution_count": 4,
      "outputs": [
        {
          "output_type": "stream",
          "name": "stdout",
          "text": [
            "step 0: f(0.00) = -5.00\n",
            "step 1: f(0.05) = -5.10\n",
            "step 2: f(0.10) = -5.20\n",
            "step 3: f(0.15) = -5.30\n",
            "step 4: f(0.20) = -5.39\n",
            "step 5: f(0.25) = -5.48\n",
            "step 6: f(0.30) = -5.57\n",
            "step 7: f(0.35) = -5.66\n",
            "step 8: f(0.40) = -5.74\n",
            "step 9: f(0.45) = -5.81\n",
            "step 10: f(0.50) = -5.88\n",
            "step 11: f(0.55) = -5.93\n",
            "step 12: f(0.60) = -5.98\n",
            "step 13: f(0.65) = -6.03\n",
            "step 14: f(0.70) = -6.06\n",
            "step 15: f(0.75) = -6.08\n",
            "step 16: f(0.80) = -6.09\n",
            "step 17: f(0.85) = -6.09\n",
            "step 18: f(0.80) = -6.09\n",
            "step 19: f(0.85) = -6.09\n"
          ]
        }
      ]
    },
    {
      "cell_type": "markdown",
      "source": [
        "# 1.&nbsp;Targeted PGD attack on undefended ResNet-50\n",
        "\n",
        "We will first run a simple *targeted* PGD attack, where the goal is to get the model to misclassify an input `(x, y)` into a specific incorrect class `y'`.\n",
        "\n",
        "You can design your attack however you'd like, but we recommend first\n",
        "implementing a `project` method that projects an adversarial example\n",
        "onto the Lp ball centered at the original sample. It is customary to\n",
        "also ensure that the projected sample is in the valid range for an image (i.e.,\n",
        "all pixel values in [0, 255]).\n",
        "\n"
      ],
      "metadata": {
        "id": "HV7wnlsjNyYb"
      }
    },
    {
      "cell_type": "code",
      "source": [
        "class PGD(object):\n",
        "    \"\"\"\n",
        "    A targeted PGD attack in l_inf norm.\n",
        "    \"\"\"\n",
        "    def __init__(self, epsilon, clf):\n",
        "        \"\"\"\n",
        "        :param epsilon: the maximum perturbation allowed\n",
        "        :param clf: the classifier to attack\n",
        "        \"\"\"\n",
        "        self.epsilon = epsilon\n",
        "        self.clf = clf\n",
        "\n",
        "    def project(self, x_adv, x_orig):\n",
        "        \"\"\"\n",
        "        Project x_adv onto the epsilon ball around x_orig.\n",
        "        :param x_adv: the adversarial images\n",
        "        :param x_orig: the clean images\n",
        "        :return: the adversarial images projected onto the epsilon ball, in the range [0, 255]\n",
        "        \"\"\"\n",
        "        perturbation = x_adv - x_orig\n",
        "        normalized_perturbation = torch.norm(perturbation.flatten(), float('inf'))\n",
        "        ### normalization\n",
        "        if normalized_perturbation > self.epsilon:\n",
        "          scaling_factor = self.epsilon / normalized_perturbation\n",
        "          perturbation = perturbation * scaling_factor\n",
        "\n",
        "        x_adv_projected = torch.clamp(x_orig + perturbation, 0, 255)\n",
        "        return x_adv_projected\n",
        "\n",
        "    def attack_batch(self, x, y_targets):\n",
        "        \"\"\"\n",
        "        Attack a batch of images with PGD.\n",
        "        :param x: the batch of images (torch tensors) to attack of size (batch_size, 3, 224, 224)\n",
        "        :param y_targets: the target labels of size (batch_size,)\n",
        "        :return: the adversarial images of size (batch_size, 3, 224, 224)\n",
        "        \"\"\"\n",
        "        num_iterations = 20\n",
        "        step_size = 0.5\n",
        "\n",
        "        ### make a copy\n",
        "        x_adv = torch.clone(x)\n",
        "        for _ in range(num_iterations):\n",
        "          x_adv.requires_grad_(True)\n",
        "\n",
        "          ### derive loss\n",
        "          outputs = self.clf.get_logits(x_adv)\n",
        "          loss = torch.nn.functional.cross_entropy(outputs, y_targets)\n",
        "\n",
        "          ### back prop\n",
        "          loss.backward()\n",
        "          grad = x_adv.grad.detach()\n",
        "\n",
        "          with torch.no_grad():\n",
        "            ### take a gradient step\n",
        "            x_adv = x_adv - step_size * torch.sign(grad)\n",
        "            ### project within the epsilon ball\n",
        "            x_adv = self.project(x_adv, x)\n",
        "\n",
        "        ### return the adversarial image\n",
        "        return x_adv.detach()\n",
        "\n",
        "    def attack_all(self, images, labels, batch_size=20):\n",
        "        \"\"\"\n",
        "        A utility to attack all images in the dataset by batching.\n",
        "        :param images: the images to attack, of size (N, 3, 224, 224) in the range [0, 255]\n",
        "        :param labels: the target labels\n",
        "        :param batch_size: the batch size to use\n",
        "        :return: the adversarial images\n",
        "        \"\"\"\n",
        "        return utils.batched_func(self.attack_batch, inputs=(images, labels),\n",
        "                                  batch_size=batch_size,\n",
        "                                  device=self.clf.device)\n",
        "\n",
        "# load the defense\n",
        "resnet = defenses.ResNet(device)\n",
        "\n",
        "pgd = PGD(epsilon=EPSILON, clf=resnet)\n",
        "x_adv = pgd.attack_all(ImageNet.clean_images, ImageNet.targets, batch_size=6)\n",
        "\n",
        "utils.save_images(os.path.join(RESULTS_PATH, \"x_adv_targeted.npy\"), x_adv)\n",
        "evaluation.eval_targeted_pgd(os.path.join(RESULTS_PATH, \"x_adv_targeted.npy\"), device);"
      ],
      "metadata": {
        "id": "bEsJ9nz_N11y",
        "colab": {
          "base_uri": "https://localhost:8080/"
        },
        "outputId": "61572119-6331-477d-ed4e-a2d1386d63c3"
      },
      "execution_count": 5,
      "outputs": [
        {
          "output_type": "stream",
          "name": "stderr",
          "text": [
            "Downloading: \"https://download.pytorch.org/models/resnet50-0676ba61.pth\" to /root/.cache/torch/hub/checkpoints/resnet50-0676ba61.pth\n",
            "100%|██████████| 97.8M/97.8M [00:00<00:00, 161MB/s]\n",
            "100%|██████████| 34/34 [00:44<00:00,  1.31s/it]\n",
            "/content/infoseclab_23/infoseclab/utils.py:47: UserWarning: Images are not the same after saving and loading.\n",
            "  warnings.warn(\"Images are not the same after saving and loading.\")\n"
          ]
        },
        {
          "output_type": "stream",
          "name": "stdout",
          "text": [
            "=== Evaluating targeted PGD ===\n",
            "\u001b[32m\tclean accuracy: 100.0%\u001b[0m\n",
            "\u001b[32m\tadv accuracy: 0.0% (target: ≤ 2.0%)\u001b[0m\n",
            "\u001b[32m\tadv target accuracy: 100.0% (target: ≥98.0%)\u001b[0m\n",
            "\u001b[32mSUCCESS\u001b[0m\n"
          ]
        }
      ]
    },
    {
      "cell_type": "code",
      "source": [
        "# you can visualize your attack samples as follows if this helps\n",
        "idx = 0\n",
        "input = torch.stack([x_adv[idx], ImageNet.clean_images[idx]]).to(device)\n",
        "logits = resnet.get_logits(input)\n",
        "utils.display(x_adv[idx], image_orig=ImageNet.clean_images[idx], logits=logits)"
      ],
      "metadata": {
        "id": "V0J7Anb0ani3",
        "colab": {
          "base_uri": "https://localhost:8080/",
          "height": 200
        },
        "outputId": "c4be8d3c-2df0-4d0c-bbd9-0cb2f6954a62"
      },
      "execution_count": 6,
      "outputs": [
        {
          "output_type": "display_data",
          "data": {
            "text/plain": [
              "<Figure size 640x480 with 3 Axes>"
            ],
            "image/png": "[encoded data removed]"
          },
          "metadata": {}
        }
      ]
    },
    {
      "cell_type": "markdown",
      "source": [
        "# 2.&nbsp;Evading Detection\n",
        "\n",
        "It turns out that \"naive\" adversarial examples are very easy to *detect*.\n",
        "So one could build a defense that aims to detect when an input has been perturbed, to reject it and raise an alarm.\n",
        "\n",
        "Unfortunately, as we'll see such defenses are hard to make robust against an *adaptive* attacker that also optimizes over the detector.\n",
        "\n",
        "You will now implement attacks against two detector defenses:\n",
        "\n",
        "<ul>\n",
        "  <li> 2.1. A detector using a standard neural network. </li>\n",
        "  <li> 2.2. A Random Forest detector </li>\n",
        "<ul>"
      ],
      "metadata": {
        "id": "m9myeLu4a5xB"
      }
    },
    {
      "cell_type": "code",
      "source": [
        "# Your previous attack is likely easily detected\n",
        "evaluation.eval_detector_attack(os.path.join(RESULTS_PATH, \"x_adv_targeted.npy\"), device=device);"
      ],
      "metadata": {
        "id": "wEsVJ2M3a5Ku",
        "colab": {
          "base_uri": "https://localhost:8080/"
        },
        "outputId": "e4c0e66a-aef6-4b90-c6f8-a89324087a10"
      },
      "execution_count": 7,
      "outputs": [
        {
          "output_type": "stream",
          "name": "stdout",
          "text": [
            "=== Evaluating targeted PGD with Neural Network Detector ===\n",
            "\u001b[32m\tclean accuracy: 100.0%\u001b[0m\n",
            "\u001b[32m\tadv accuracy: 0.0% (target: ≤ 2.0%)\u001b[0m\n",
            "\u001b[32m\tadv target accuracy: 100.0% (target: ≥98.0%)\u001b[0m\n",
            "\u001b[32m\tclean examples detected: 2.5% (target: ≤5.0%)\u001b[0m\n",
            "\u001b[31m\tadv examples detected: 88.0% (target: ≤1.0%)\u001b[0m\n",
            "\u001b[31mNOT THERE YET!\u001b[0m\n"
          ]
        }
      ]
    },
    {
      "cell_type": "markdown",
      "source": [
        "## 2.1&nbsp;Evading A Neural Network Detector\n",
        "\n",
        "We will first do a targeted attack against the `ResNetDetector` defense.\n",
        "This defense takes the standard `ResNet` classifier from before, and adds an additional detector network.\n",
        "\n",
        "The defense can be used for classification, in which case it outputs an array of scores for each of the 1000 classes, for each input:\n",
        "\n",
        "```\n",
        "resnet_det = ResNetDetector(device)\n",
        "resnet_det.get_logits(x) -> [N, 1000]\n",
        "```\n",
        "\n",
        "To obtain a detector, we trained a *binary* classifier that takes in an input and outputs binary logits for the task of distinguishing clean images (class 0) from adversarially perturbed ones (class 1):\n",
        "\n",
        "```\n",
        "resnet_det = ResNetDetector(device)\n",
        "resnet_det.get_detection_logits(x) -> [N, 2]\n",
        "```\n",
        "\n",
        "*(the classifier and detector actually share most of their implementation.\n",
        "The original ResNet classifier is of the form `g(f(x))` where `f` is a <u>feature extractor</u> that maps inputs to feature vectors, and `g` is a <u>linear layer</u> that maps a feature vector to a vector of 1000 class scores.\n",
        "The detector takes as input the same feature vector `f(x)`, and applies a different linear layer `g_det` that maps the features to a vector of 2 class scores.\n",
        "See `infoseclab.defenses.defense_detector.ResNetDetector` for details).*\n",
        "\n",
        "Note: You are allowed to use the `ResNetDetector` module in your attack, but you are not allowed to modify it."
      ],
      "metadata": {
        "id": "cpHESdu-h6bO"
      }
    },
    {
      "cell_type": "code",
      "source": [
        "class PGD_Det(PGD):\n",
        "    \"\"\"\n",
        "    A targeted PGD attack that also tries to evade detection.\n",
        "    \"\"\"\n",
        "\n",
        "    def __init__(self, epsilon, clf):\n",
        "        \"\"\"\n",
        "        :param epsilon: the maximum perturbation allowed\n",
        "        :param clf: the classifier to attack\n",
        "        \"\"\"\n",
        "        super().__init__(epsilon, clf)\n",
        "\n",
        "    def attack_batch(self, x, y_targets):\n",
        "        \"\"\"\n",
        "        Attack a batch of images with targeted PGD while also evading detection.\n",
        "        :param x: the batch of images (torch tensors) to attack of size (batch_size, 3, 224, 224)\n",
        "        :param y_targets: the target labels of size (batch_size,)\n",
        "        :return: the adversarial images of size (batch_size, 3, 224, 224)\n",
        "        \"\"\"\n",
        "        num_iterations = 20\n",
        "        step_size = 0.5\n",
        "\n",
        "        ### to escape the detector\n",
        "        y_anti_detector = torch.zeros_like(y_targets)\n",
        "\n",
        "        ### make a copy\n",
        "        x_adv = torch.clone(x)\n",
        "        for _ in range(num_iterations):\n",
        "          x_adv.requires_grad_(True)\n",
        "\n",
        "          ##################### for misclassficiation ##############\n",
        "          outputs = self.clf.get_logits(x_adv)\n",
        "          loss = torch.nn.functional.cross_entropy(outputs, y_targets)\n",
        "          loss.backward()\n",
        "\n",
        "          ################### for escaping detector ###################\n",
        "          outputs_detector = self.clf.get_detection_logits(x_adv)\n",
        "          loss_detector = torch.nn.functional.cross_entropy(outputs_detector, y_anti_detector)\n",
        "          loss_detector.backward()\n",
        "\n",
        "          grad = x_adv.grad.detach()\n",
        "\n",
        "          with torch.no_grad():\n",
        "            ### take a gradient step\n",
        "            x_adv = x_adv - step_size * torch.sign(grad)\n",
        "            ### project within the epsilon ball\n",
        "            x_adv = self.project(x_adv, x)\n",
        "\n",
        "        ### return the adversarial image\n",
        "        return x_adv.detach()\n",
        "\n",
        "defense_det = defenses.ResNetDetector(device)\n",
        "pgd_det = PGD_Det(epsilon=EPSILON, clf=defense_det)\n",
        "x_adv_det = pgd_det.attack_all(ImageNet.clean_images, ImageNet.targets, batch_size=6)\n",
        "\n",
        "utils.save_images(os.path.join(RESULTS_PATH, \"x_adv_detect.npy\"), x_adv_det)\n",
        "evaluation.eval_detector_attack(os.path.join(RESULTS_PATH, \"x_adv_detect.npy\"), device=device);"
      ],
      "metadata": {
        "id": "W7V6HnP5b4LR",
        "colab": {
          "base_uri": "https://localhost:8080/"
        },
        "outputId": "a45fbc2b-eb29-4d1a-f973-62aecf6049d7"
      },
      "execution_count": 9,
      "outputs": [
        {
          "output_type": "stream",
          "name": "stderr",
          "text": [
            "100%|██████████| 34/34 [01:26<00:00,  2.54s/it]\n"
          ]
        },
        {
          "output_type": "stream",
          "name": "stdout",
          "text": [
            "=== Evaluating targeted PGD with Neural Network Detector ===\n",
            "\u001b[32m\tclean accuracy: 100.0%\u001b[0m\n",
            "\u001b[32m\tadv accuracy: 0.0% (target: ≤ 2.0%)\u001b[0m\n",
            "\u001b[32m\tadv target accuracy: 100.0% (target: ≥98.0%)\u001b[0m\n",
            "\u001b[32m\tclean examples detected: 2.5% (target: ≤5.0%)\u001b[0m\n",
            "\u001b[32m\tadv examples detected: 0.0% (target: ≤1.0%)\u001b[0m\n",
            "\u001b[32mSUCCESS\u001b[0m\n"
          ]
        }
      ]
    },
    {
      "cell_type": "markdown",
      "source": [
        "## 2.2&nbsp;Evading a Random Forest Detector\n",
        "\n",
        "You will now try to attack a second detector defense.\n",
        "As with the previous defense, we first classify the input in a standard way using the ResNet50 model.\n",
        "\n",
        "But this time, the detector is an opaque \"Random Forest\" model that takes as\n",
        "input the features from the resnet model and outputs a decision.\n",
        "This is a discrete model (a Random Forest is a collection of decision trees) that cannot be easily differentiated. So you'll need\n",
        "a new strategy!\n",
        "\n",
        "**For this defense, your attack can be untargeted. That is, it suffices that the adversarial examples are classified into <i>any</i> incorrect class, as long as the detector doesn't flag the sample.**"
      ],
      "metadata": {
        "id": "eMlKoqzTcLNV"
      }
    },
    {
      "cell_type": "code",
      "source": [
        "class PGD_Det_RF(PGD):\n",
        "    \"\"\"\n",
        "    A targeted PGD attack that also tries to evade detection with a random forest.\n",
        "    \"\"\"\n",
        "\n",
        "    def __init__(self, epsilon, clf):\n",
        "        \"\"\"\n",
        "        :param epsilon: the maximum perturbation allowed\n",
        "        :param clf: the classifier to attack\n",
        "        \"\"\"\n",
        "        super().__init__(epsilon, clf)\n",
        "\n",
        "    def attack_batch(self, x, y):\n",
        "        \"\"\"\n",
        "        Attack a batch of images with targeted PGD while also evading detection.\n",
        "        :param x: the batch of images (torch tensors) to attack of size (batch_size, 3, 224, 224)\n",
        "        :param y: the labels of size (batch_size,)\n",
        "        :return: the adversarial images of size (batch_size, 3, 224, 224)\n",
        "        \"\"\"\n",
        "        num_iterations = 20\n",
        "        step_size = 0.5\n",
        "\n",
        "        ### make a copy\n",
        "        x_adv = torch.clone(x)\n",
        "        for _ in range(num_iterations):\n",
        "          x_adv.requires_grad_(True)\n",
        "\n",
        "          ##################### for misclassficiation ##############\n",
        "          outputs = self.clf.get_logits(x_adv)\n",
        "          loss = (-1) * torch.nn.functional.cross_entropy(outputs, y)\n",
        "          loss.backward()\n",
        "\n",
        "          grad = x_adv.grad.detach()\n",
        "\n",
        "          with torch.no_grad():\n",
        "            ### save a copy\n",
        "            x_adv_previous = torch.clone(x_adv)\n",
        "\n",
        "            ### take a gradient step and project back to the epsilon ball\n",
        "            x_adv = x_adv - step_size * torch.sign(grad)\n",
        "            x_adv = self.project(x_adv, x)\n",
        "\n",
        "            ### for detected examples, go back to the previous version\n",
        "            x_adv_detected_mask = self.are_we_detected(x_adv)\n",
        "            x_adv[x_adv_detected_mask] = x_adv_previous[x_adv_detected_mask]\n",
        "\n",
        "        ### return the adversarial image\n",
        "        return x_adv.detach()\n",
        "\n",
        "    def are_we_detected(self, x_adv):\n",
        "        \"\"\"\n",
        "        Check whether we are detected\n",
        "        :param x_adv: the adversarial images\n",
        "        :return: a boolean tensor indicating whether the detector flags each input\n",
        "        \"\"\"\n",
        "        decision = self.clf.detect(x_adv)\n",
        "        return decision == 1\n",
        "\n",
        "\n",
        "defense_det_rf = defenses.RFDetector(device)\n",
        "pgd_det_rf = PGD_Det_RF(epsilon=EPSILON, clf=defense_det_rf)\n",
        "x_adv_det_rf = pgd_det_rf.attack_all(ImageNet.clean_images, ImageNet.labels, batch_size=6)\n",
        "\n",
        "utils.save_images(os.path.join(RESULTS_PATH, \"x_adv_detect_rf.npy\"), x_adv_det_rf)\n",
        "evaluation.eval_rf_detector_attack(os.path.join(RESULTS_PATH, \"x_adv_detect_rf.npy\"), device=device);"
      ],
      "metadata": {
        "id": "2FBBIk2YcAdg",
        "colab": {
          "base_uri": "https://localhost:8080/"
        },
        "outputId": "d6bdf7ee-647c-43b9-ce0b-6e5dd2457f14"
      },
      "execution_count": 10,
      "outputs": [
        {
          "output_type": "stream",
          "name": "stderr",
          "text": [
            "/usr/local/lib/python3.10/dist-packages/sklearn/base.py:318: UserWarning: Trying to unpickle estimator DecisionTreeClassifier from version 1.1.3 when using version 1.2.2. This might lead to breaking code or invalid results. Use at your own risk. For more info please refer to:\n",
            "https://scikit-learn.org/stable/model_persistence.html#security-maintainability-limitations\n",
            "  warnings.warn(\n",
            "/usr/local/lib/python3.10/dist-packages/sklearn/base.py:318: UserWarning: Trying to unpickle estimator RandomForestClassifier from version 1.1.3 when using version 1.2.2. This might lead to breaking code or invalid results. Use at your own risk. For more info please refer to:\n",
            "https://scikit-learn.org/stable/model_persistence.html#security-maintainability-limitations\n",
            "  warnings.warn(\n",
            "100%|██████████| 34/34 [00:59<00:00,  1.74s/it]\n",
            "/content/infoseclab_23/infoseclab/utils.py:47: UserWarning: Images are not the same after saving and loading.\n",
            "  warnings.warn(\"Images are not the same after saving and loading.\")\n"
          ]
        },
        {
          "output_type": "stream",
          "name": "stdout",
          "text": [
            "=== Evaluating untargeted PGD with Random Forest Detector ===\n"
          ]
        },
        {
          "output_type": "stream",
          "name": "stderr",
          "text": [
            "/usr/local/lib/python3.10/dist-packages/sklearn/base.py:318: UserWarning: Trying to unpickle estimator DecisionTreeClassifier from version 1.1.3 when using version 1.2.2. This might lead to breaking code or invalid results. Use at your own risk. For more info please refer to:\n",
            "https://scikit-learn.org/stable/model_persistence.html#security-maintainability-limitations\n",
            "  warnings.warn(\n",
            "/usr/local/lib/python3.10/dist-packages/sklearn/base.py:318: UserWarning: Trying to unpickle estimator RandomForestClassifier from version 1.1.3 when using version 1.2.2. This might lead to breaking code or invalid results. Use at your own risk. For more info please refer to:\n",
            "https://scikit-learn.org/stable/model_persistence.html#security-maintainability-limitations\n",
            "  warnings.warn(\n"
          ]
        },
        {
          "output_type": "stream",
          "name": "stdout",
          "text": [
            "\u001b[32m\tclean accuracy: 100.0%\u001b[0m\n",
            "\u001b[32m\tadv accuracy: 0.5% (target: ≤ 2.0%)\u001b[0m\n",
            "\u001b[32m\tclean examples detected: 0.0% (target: ≤5.0%)\u001b[0m\n",
            "\u001b[32m\tadv examples detected: 0.5% (target: ≤1.0%)\u001b[0m\n",
            "\u001b[32mSUCCESS\u001b[0m\n"
          ]
        }
      ]
    },
    {
      "cell_type": "markdown",
      "source": [
        "#3.&nbsp; Preprocessing Defenses\n",
        "\n",
        "We are now going to look at two defenses against adversarial examples that aim to resist noise by *pre-processing* the input before classifying it.\n",
        "\n",
        "<ul>\n",
        "  <li> 3.1. Blurring </li>\n",
        "  <li> 3.2. Random cropping and noising </li>\n",
        "  <li> 3.3. Input discretization </li>\n",
        "<ul>"
      ],
      "metadata": {
        "id": "EdorMrPt-Vpf"
      }
    },
    {
      "cell_type": "markdown",
      "source": [
        "##3.1&nbsp; Blurring\n",
        "\n",
        "A natural defense idea is to try and remove the noise from adversarial images. A simple way of trying to do that is to add a blurring filter.\n",
        "\n",
        "The `ResNetBlur` defense implements this. Your goal is to create a targeted PGD attack that will defeat Blurring.\n",
        "You **don't** need to ensure that the attack stays undetected.\n",
        "\n",
        "The challenge you'll encounter is that the Blurring filter we use is not automatically differentiable. You'll likely need to find a way around that!"
      ],
      "metadata": {
        "id": "3y_q-ox3c_qb"
      }
    },
    {
      "cell_type": "code",
      "source": [
        "class PGD_Blur(PGD):\n",
        "    \"\"\"\n",
        "    A targeted PGD attack that tries to resist Blurring.\n",
        "    \"\"\"\n",
        "\n",
        "    def __init__(self, epsilon, clf):\n",
        "        \"\"\"\n",
        "        :param epsilon: the maximum perturbation allowed\n",
        "        :param clf: the classifier to attack\n",
        "        \"\"\"\n",
        "        super().__init__(epsilon, clf)\n",
        "\n",
        "    def attack_batch(self, x, y_targets):\n",
        "        \"\"\"\n",
        "        Attack a batch of images with targeted PGD while also resisting JPEG compression.\n",
        "        :param x: the batch of images (torch tensors) to attack of size (batch_size, 3, 224, 224)\n",
        "        :param y_targets: the target labels of size (batch_size,)\n",
        "        :return: the adversarial images of size (batch_size, 3, 224, 224)\n",
        "        \"\"\"\n",
        "\n",
        "        num_iterations = 20\n",
        "        step_size = 0.5\n",
        "\n",
        "        ### make a copy\n",
        "        x_adv = torch.clone(x)\n",
        "        for _ in range(num_iterations):\n",
        "          ### approximate ∇xf(g(x)) by evaluating ∇xf(x) at the point g(x)\n",
        "          ### using the blurred image as input\n",
        "          x_adv_blurred = defenses.defense_blur.blur_images(x_adv)\n",
        "          x_adv_blurred.requires_grad_(True)\n",
        "          ### call the original classifier\n",
        "          model_output = super(type(defense_blur), self.clf).get_logits(x_adv_blurred)\n",
        "          loss = torch.nn.functional.cross_entropy(model_output, y_targets)\n",
        "\n",
        "          loss.backward()\n",
        "          grad = x_adv_blurred.grad.detach()\n",
        "\n",
        "          with torch.no_grad():\n",
        "            ### take a gradient step\n",
        "            x_adv = x_adv - step_size * torch.sign(grad)\n",
        "            ### project within the epsilon ball\n",
        "            x_adv = self.project(x_adv, x)\n",
        "\n",
        "        ### return the adversarial image\n",
        "        return x_adv.detach()\n",
        "\n",
        "\n",
        "defense_blur = defenses.ResNetBlur(device)\n",
        "pgd_blur = PGD_Blur(epsilon=EPSILON, clf=defense_blur)\n",
        "x_adv_blur = pgd_blur.attack_all(ImageNet.clean_images, ImageNet.targets, batch_size=6)\n",
        "\n",
        "utils.save_images(os.path.join(RESULTS_PATH, \"x_adv_blur.npy\"), x_adv_blur)\n",
        "evaluation.eval_blur_attack(os.path.join(RESULTS_PATH, \"x_adv_blur.npy\"), device);"
      ],
      "metadata": {
        "id": "GlbbYrsIgnsc",
        "colab": {
          "base_uri": "https://localhost:8080/"
        },
        "outputId": "ab39bd45-c9e6-4014-bde7-cab928aa16c4"
      },
      "execution_count": 11,
      "outputs": [
        {
          "output_type": "stream",
          "name": "stderr",
          "text": [
            "100%|██████████| 34/34 [01:51<00:00,  3.28s/it]\n",
            "/content/infoseclab_23/infoseclab/utils.py:47: UserWarning: Images are not the same after saving and loading.\n",
            "  warnings.warn(\"Images are not the same after saving and loading.\")\n"
          ]
        },
        {
          "output_type": "stream",
          "name": "stdout",
          "text": [
            "=== Evaluating targeted PGD on blurred defense ===\n",
            "\u001b[32m\tclean accuracy: 92.5%\u001b[0m\n",
            "\u001b[32m\tadv accuracy: 0.0% (target: ≤ 2.0%)\u001b[0m\n",
            "\u001b[32m\tadv target accuracy: 100.0% (target: ≥98.0%)\u001b[0m\n",
            "\u001b[32mSUCCESS\u001b[0m\n"
          ]
        }
      ]
    },
    {
      "cell_type": "markdown",
      "source": [
        "##3.2&nbsp; Randomized cropping and noising\n",
        "\n",
        "Another natural defense idea is to try and *randomize* the model's behavior to make it harder to create adversarial examples.\n",
        "\n",
        "The ResNetRandom defense implements this, by randomly cropping and noising input images before classifying them.\n",
        "\n",
        "Your goal is to create a targeted PGD attack that will defeat randomized pre-processing.\n",
        "In this part, you **don't** need to ensure that the attack stays undetected.\n",
        "\n",
        "**Note that since this defense is randomized, the evaluation results might vary slightly from one run to the next. To make sure that your attack passes our final evaluation, try to create an attack that has a few % of slack compared to the evaluation targets (e.g., if we target an adversarial accuracy below 5%, aim to ensure that your attack reaches ~3% or lower)**"
      ],
      "metadata": {
        "id": "ag6TwSfy_Y8Z"
      }
    },
    {
      "cell_type": "code",
      "source": [
        "class PGD_Random(PGD):\n",
        "    \"\"\"\n",
        "    A PGD attack that also tries to resist random preprocessing.\n",
        "    \"\"\"\n",
        "\n",
        "    def __init__(self, epsilon, clf):\n",
        "        super().__init__(epsilon, clf)\n",
        "\n",
        "    def attack_batch(self, x, y_targets):\n",
        "        \"\"\"\n",
        "        Attack a batch of images with targeted PGD while also evading random preprocessing.\n",
        "        :param x: the batch of images (torch tensors) to attack of size (batch_size, 3, 224, 224)\n",
        "        :param y_targets: the target labels of size (batch_size,)\n",
        "        :return: the adversarial images of size (batch_size, 3, 224, 224)\n",
        "        \"\"\"\n",
        "        num_iterations = 30\n",
        "        step_size = 1\n",
        "        nr_of_samples_per_iteration = 14\n",
        "\n",
        "        ### make a copy\n",
        "        x_adv = torch.clone(x)\n",
        "        for _ in range(num_iterations):\n",
        "          x_adv.requires_grad_(True)\n",
        "          loss = 0\n",
        "          ### multiple rounds to balance off the randomness\n",
        "          for _ in range(nr_of_samples_per_iteration):\n",
        "            outputs = self.clf.get_logits(x_adv)\n",
        "            loss += torch.nn.functional.cross_entropy(outputs, y_targets)\n",
        "          loss /= nr_of_samples_per_iteration\n",
        "\n",
        "          ### back prop\n",
        "          loss.backward()\n",
        "          grad = x_adv.grad.detach()\n",
        "\n",
        "          with torch.no_grad():\n",
        "            ### take a gradient step\n",
        "            x_adv = x_adv - step_size * torch.sign(grad)\n",
        "            ### project within the epsilon ball\n",
        "            x_adv = self.project(x_adv, x)\n",
        "\n",
        "        ### return the adversarial image\n",
        "        return x_adv.detach()\n",
        "\n",
        "\n",
        "defense_random = defenses.ResNetRandom(device)\n",
        "pgd_random = PGD_Random(epsilon=EPSILON, clf=defense_random)\n",
        "x_adv_random = pgd_random.attack_all(ImageNet.clean_images, ImageNet.targets, batch_size=6)\n",
        "\n",
        "utils.save_images(os.path.join(RESULTS_PATH, \"x_adv_random.npy\"), x_adv_random)\n",
        "evaluation.eval_random_attack(os.path.join(RESULTS_PATH, \"x_adv_random.npy\"), device);"
      ],
      "metadata": {
        "id": "sH64CeqCAzFC",
        "colab": {
          "base_uri": "https://localhost:8080/"
        },
        "outputId": "0389f2a2-74e1-4416-8f2c-b8a92bb36ec9"
      },
      "execution_count": null,
      "outputs": [
        {
          "output_type": "stream",
          "name": "stderr",
          "text": [
            "100%|██████████| 34/34 [15:34<00:00, 27.48s/it]\n"
          ]
        },
        {
          "output_type": "stream",
          "name": "stdout",
          "text": [
            "=== Evaluating targeted PGD on randomized defense ===\n",
            "\u001b[32m\tclean accuracy: 92.5%\u001b[0m\n",
            "\u001b[32m\tadv accuracy: 0.5% (target: ≤ 2.0%)\u001b[0m\n",
            "\u001b[32m\tadv target accuracy: 98.5% (target: ≥98.0%)\u001b[0m\n",
            "\u001b[32mSUCCESS\u001b[0m\n"
          ]
        }
      ]
    },
    {
      "cell_type": "markdown",
      "source": [
        "##3.3&nbsp; Discretized inputs\n",
        "\n",
        "This final defense does something a bit crazy to make it hard for you to compute gradients (a lot of proposed defenses against adversarial examples used to do this, but none of them work...)\n",
        "\n",
        "This defense discretizes the model's inputs as follows: each pixel (in the range [0, 1]) is mapped to an array of 20 binary \"buckets\", where the i-th bucket is set if the input pixel is greater than i/20. So for example we encode `0.0` as `[0 0 0 0 0 ... 0]`, `0.1` as `[1 1 0 0 ... 0]` and `1.0` as `[1 1 1 1 1 ... 1]`.\n",
        "\n",
        "See the `ResNetDiscrete` defense for the implementation of this encoding.\n",
        "\n",
        "The encoded inputs are then fed into a ResNet-style model (which was modified to take in inputs with `3*20` pixel channels instead of `3`).\n",
        "\n",
        "Your goal is to create targeted adversarial examples that break this defense."
      ],
      "metadata": {
        "id": "8IqqopaZfTdS"
      }
    },
    {
      "cell_type": "code",
      "source": [
        "class PGD_Discrete(PGD):\n",
        "    \"\"\"\n",
        "    A PGD attack that also tries to resist input discretization.\n",
        "    \"\"\"\n",
        "\n",
        "    def __init__(self, epsilon, clf):\n",
        "        super().__init__(epsilon, clf)\n",
        "\n",
        "    def attack_batch(self, x, y_targets):\n",
        "        \"\"\"\n",
        "        Attack a batch of images with targeted PGD while also evading random preprocessing.\n",
        "        :param x: the batch of images (torch tensors) to attack of size (batch_size, 3, 224, 224)\n",
        "        :param y_targets: the target labels of size (batch_size,)\n",
        "        :return: the adversarial images of size (batch_size, 3, 224, 224)\n",
        "        \"\"\"\n",
        "        num_iterations = 20\n",
        "        step_size = 0.5\n",
        "\n",
        "        ### make a copy\n",
        "        x_adv = torch.clone(x)\n",
        "        for _ in range(num_iterations):\n",
        "          x_adv_discretized = self.clf.encode(x_adv / 255.0)\n",
        "          x_adv_discretized.requires_grad_(True)\n",
        "\n",
        "          ### derive loss\n",
        "          outputs = self.clf.model(x_adv_discretized)\n",
        "          loss = torch.nn.functional.cross_entropy(outputs, y_targets)\n",
        "\n",
        "          ### back prop\n",
        "          loss.backward()\n",
        "          grad = x_adv_discretized.grad.detach()\n",
        "\n",
        "          with torch.no_grad():\n",
        "            ### take a gradient step (decode the gradient first)\n",
        "            grad = self.decode(grad)\n",
        "            x_adv = x_adv - step_size * torch.sign(grad)\n",
        "            ### project within the epsilon ball\n",
        "            x_adv = self.project(x_adv, x)\n",
        "\n",
        "        ### return the adversarial image\n",
        "        return x_adv.detach()\n",
        "\n",
        "    ### the exact reverse process of encode\n",
        "    def decode(self, x):\n",
        "        # discretize into 20 bins\n",
        "        thresholds = torch.from_numpy(np.arange(0, 1, .05)).to(x.device).float()\n",
        "        # average\n",
        "        thresholds += 0.025\n",
        "\n",
        "        x = x.permute(0, 2, 3, 1)\n",
        "        shape = list(x.shape)  ### x is now of shape [1, 224, 224, 60]\n",
        "\n",
        "\n",
        "        shape[-1] = shape[-1] // thresholds.shape[0]\n",
        "        shape.append(thresholds.shape[0])\n",
        "\n",
        "        x = x.reshape(shape) ### x is now of shape [1, 224, 224, 3, 20]\n",
        "        x = x * thresholds  ### x is now of shape [1, 224, 224, 3]\n",
        "\n",
        "        x = torch.max(x, dim = -1).values ### let's go back to where we were\n",
        "        x = x.permute(0, 3, 1, 2)\n",
        "\n",
        "        return x\n",
        "\n",
        "\n",
        "defense = defenses.ResNetDiscrete(device)\n",
        "pgd_discrete = PGD_Discrete(epsilon=EPSILON, clf=defense)\n",
        "x_adv_discrete = pgd_discrete.attack_all(ImageNet.clean_images, ImageNet.targets, batch_size=6)\n",
        "\n",
        "utils.save_images(os.path.join(RESULTS_PATH, \"x_adv_discrete.npy\"), x_adv_discrete)\n",
        "evaluation.eval_discrete_attack(os.path.join(RESULTS_PATH, \"x_adv_discrete.npy\"), device);"
      ],
      "metadata": {
        "id": "-CHBUCELfS16",
        "colab": {
          "base_uri": "https://localhost:8080/"
        },
        "outputId": "ea72ed27-3358-4108-9cfa-7d199d21fb24"
      },
      "execution_count": 12,
      "outputs": [
        {
          "output_type": "stream",
          "name": "stderr",
          "text": [
            "100%|██████████| 34/34 [00:40<00:00,  1.20s/it]\n"
          ]
        },
        {
          "output_type": "stream",
          "name": "stdout",
          "text": [
            "=== Evaluating targeted PGD on discretized defense ===\n",
            "\u001b[32m\tclean accuracy: 80.5%\u001b[0m\n",
            "\u001b[32m\tadv accuracy: 0.0% (target: ≤ 3.0%)\u001b[0m\n",
            "\u001b[32m\tadv target accuracy: 100.0% (target: ≥96.0%)\u001b[0m\n",
            "\u001b[32mSUCCESS\u001b[0m\n"
          ]
        }
      ]
    },
    {
      "cell_type": "markdown",
      "source": [
        "# Create submission file (**upload `results1.zip` to moodle**)"
      ],
      "metadata": {
        "id": "9_Cmw-Qj8mLe"
      }
    },
    {
      "cell_type": "code",
      "source": [
        "!zip -j -FSr \"{RESULTS_PATH}/results1.zip\" {RESULTS_PATH}"
      ],
      "metadata": {
        "id": "197yEKu1J_-l",
        "colab": {
          "base_uri": "https://localhost:8080/"
        },
        "outputId": "833fd96d-1c28-44a6-f32a-7eeb1233a4af"
      },
      "execution_count": 13,
      "outputs": [
        {
          "output_type": "stream",
          "name": "stdout",
          "text": [
            "updating: x_adv_detect.npy (deflated 14%)\n",
            "updating: x_adv_detect_rf.npy (deflated 24%)\n",
            "updating: x_adv_targeted.npy (deflated 14%)\n",
            "updating: x_adv_blur.npy (deflated 13%)\n",
            "updating: x_adv_random.npy (deflated 13%)\n",
            "updating: x_adv_discrete.npy (deflated 13%)\n"
          ]
        }
      ]
    },
    {
      "cell_type": "code",
      "source": [
        "from infoseclab.evaluation import eval_targeted_pgd, eval_detector_attack, eval_rf_detector_attack, eval_blur_attack, eval_random_attack, eval_discrete_attack\n",
        "from infoseclab.submission import validate_zip1\n",
        "\n",
        "assert validate_zip1(f\"{RESULTS_PATH}/results1.zip\")\n",
        "\n",
        "with ZipFile(f\"{RESULTS_PATH}/results1.zip\", 'r') as zip:\n",
        "    _ = eval_targeted_pgd(path=zip.open(\"x_adv_targeted.npy\"), device=device)\n",
        "    _ = eval_detector_attack(path=zip.open(\"x_adv_detect.npy\"), device=device)\n",
        "    _ = eval_rf_detector_attack(path=zip.open(\"x_adv_detect_rf.npy\"), device=device)\n",
        "    _ = eval_blur_attack(path=zip.open(\"x_adv_blur.npy\"), device=device)\n",
        "    _ = eval_random_attack(path=zip.open(\"x_adv_random.npy\"), device=device)\n",
        "    _ = eval_discrete_attack(path=zip.open(\"x_adv_discrete.npy\"), device=device)"
      ],
      "metadata": {
        "id": "yW3j3t9y9ZVO",
        "colab": {
          "base_uri": "https://localhost:8080/"
        },
        "outputId": "af5b0227-11c7-4068-837f-1c78200b77da"
      },
      "execution_count": 14,
      "outputs": [
        {
          "output_type": "stream",
          "name": "stdout",
          "text": [
            "Zip file is valid\n",
            "=== Evaluating targeted PGD ===\n",
            "\u001b[32m\tclean accuracy: 100.0%\u001b[0m\n",
            "\u001b[32m\tadv accuracy: 0.0% (target: ≤ 2.0%)\u001b[0m\n",
            "\u001b[32m\tadv target accuracy: 100.0% (target: ≥98.0%)\u001b[0m\n",
            "\u001b[32mSUCCESS\u001b[0m\n",
            "=== Evaluating targeted PGD with Neural Network Detector ===\n",
            "\u001b[32m\tclean accuracy: 100.0%\u001b[0m\n",
            "\u001b[32m\tadv accuracy: 0.0% (target: ≤ 2.0%)\u001b[0m\n",
            "\u001b[32m\tadv target accuracy: 100.0% (target: ≥98.0%)\u001b[0m\n",
            "\u001b[32m\tclean examples detected: 2.5% (target: ≤5.0%)\u001b[0m\n",
            "\u001b[32m\tadv examples detected: 0.0% (target: ≤1.0%)\u001b[0m\n",
            "\u001b[32mSUCCESS\u001b[0m\n",
            "=== Evaluating untargeted PGD with Random Forest Detector ===\n"
          ]
        },
        {
          "output_type": "stream",
          "name": "stderr",
          "text": [
            "/usr/local/lib/python3.10/dist-packages/sklearn/base.py:318: UserWarning: Trying to unpickle estimator DecisionTreeClassifier from version 1.1.3 when using version 1.2.2. This might lead to breaking code or invalid results. Use at your own risk. For more info please refer to:\n",
            "https://scikit-learn.org/stable/model_persistence.html#security-maintainability-limitations\n",
            "  warnings.warn(\n",
            "/usr/local/lib/python3.10/dist-packages/sklearn/base.py:318: UserWarning: Trying to unpickle estimator RandomForestClassifier from version 1.1.3 when using version 1.2.2. This might lead to breaking code or invalid results. Use at your own risk. For more info please refer to:\n",
            "https://scikit-learn.org/stable/model_persistence.html#security-maintainability-limitations\n",
            "  warnings.warn(\n"
          ]
        },
        {
          "output_type": "stream",
          "name": "stdout",
          "text": [
            "\u001b[32m\tclean accuracy: 100.0%\u001b[0m\n",
            "\u001b[32m\tadv accuracy: 0.5% (target: ≤ 2.0%)\u001b[0m\n",
            "\u001b[32m\tclean examples detected: 0.0% (target: ≤5.0%)\u001b[0m\n",
            "\u001b[32m\tadv examples detected: 0.5% (target: ≤1.0%)\u001b[0m\n",
            "\u001b[32mSUCCESS\u001b[0m\n",
            "=== Evaluating targeted PGD on blurred defense ===\n",
            "\u001b[32m\tclean accuracy: 92.5%\u001b[0m\n",
            "\u001b[32m\tadv accuracy: 0.0% (target: ≤ 2.0%)\u001b[0m\n",
            "\u001b[32m\tadv target accuracy: 100.0% (target: ≥98.0%)\u001b[0m\n",
            "\u001b[32mSUCCESS\u001b[0m\n",
            "=== Evaluating targeted PGD on randomized defense ===\n",
            "\u001b[32m\tclean accuracy: 93.5%\u001b[0m\n",
            "\u001b[32m\tadv accuracy: 1.0% (target: ≤ 2.0%)\u001b[0m\n",
            "\u001b[32m\tadv target accuracy: 99.0% (target: ≥98.0%)\u001b[0m\n",
            "\u001b[32mSUCCESS\u001b[0m\n",
            "=== Evaluating targeted PGD on discretized defense ===\n",
            "\u001b[32m\tclean accuracy: 80.5%\u001b[0m\n",
            "\u001b[32m\tadv accuracy: 0.0% (target: ≤ 3.0%)\u001b[0m\n",
            "\u001b[32m\tadv target accuracy: 100.0% (target: ≥96.0%)\u001b[0m\n",
            "\u001b[32mSUCCESS\u001b[0m\n"
          ]
        }
      ]
    }
  ]
}