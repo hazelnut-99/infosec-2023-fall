{
  "cells": [
    {
      "cell_type": "code",
      "execution_count": 15,
      "metadata": {
        "id": "mFCB4Sp6r1Yp",
        "colab": {
          "base_uri": "https://localhost:8080/"
        },
        "outputId": "39272aab-3619-4815-a159-988eb9af7f31"
      },
      "outputs": [
        {
          "output_type": "stream",
          "name": "stdout",
          "text": [
            "Drive already mounted at /content/drive; to attempt to forcibly remount, call drive.mount(\"/content/drive\", force_remount=True).\n"
          ]
        }
      ],
      "source": [
        "use_gdrive = True # @param {type:\"boolean\"}\n",
        "\n",
        "RESULTS_PATH = \"results2\"\n",
        "\n",
        "if use_gdrive:\n",
        "  try:\n",
        "    # mount your google drive to get permanent storage for your results\n",
        "    from google.colab import drive\n",
        "    drive.mount('/content/drive')\n",
        "\n",
        "    RESULTS_PATH = \"/content/drive/MyDrive/infoseclab23/results2\"\n",
        "  except ModuleNotFoundError:\n",
        "    print(\"failed to mount gdrive\")\n",
        "else:\n",
        "  print(f\"saving results to '{RESULTS_PATH}'. If you're using Google Colab, this folder will be deleted when you disconnect!\")\n",
        "\n",
        "!mkdir -p {RESULTS_PATH}"
      ]
    },
    {
      "cell_type": "code",
      "execution_count": 16,
      "metadata": {
        "id": "SwaKfoJ3r771",
        "colab": {
          "base_uri": "https://localhost:8080/"
        },
        "outputId": "324a2e2e-c129-4a27-e8a4-e293e70349f2"
      },
      "outputs": [
        {
          "output_type": "stream",
          "name": "stdout",
          "text": [
            "/content/infoseclab_23\n",
            "From https://github.com/ethz-spylab/infoseclab_23\n",
            " * branch            HEAD       -> FETCH_HEAD\n",
            "Already up to date.\n",
            "/content\n"
          ]
        }
      ],
      "source": [
        "import sys\n",
        "\n",
        "# Lab files\n",
        "![ ! -d 'infoseclab_23' ] && git clone https://github.com/ethz-spylab/infoseclab_23.git\n",
        "%cd infoseclab_23\n",
        "!git pull https://github.com/ethz-spylab/infoseclab_23.git\n",
        "%cd ..\n",
        "if \"infoseclab_23\" not in sys.path:\n",
        "  sys.path.append(\"infoseclab_23\")"
      ]
    },
    {
      "cell_type": "markdown",
      "metadata": {
        "id": "3v3KTaJ2r__h"
      },
      "source": [
        "# Imports"
      ]
    },
    {
      "cell_type": "code",
      "execution_count": 17,
      "metadata": {
        "id": "lv6zjpbxsB20"
      },
      "outputs": [],
      "source": [
        "import infoseclab\n",
        "from infoseclab import ShadowModels, utils, evaluation\n",
        "import matplotlib.pyplot as plt\n",
        "import numpy as np\n",
        "import os\n",
        "import pathlib\n",
        "import scipy\n",
        "import sklearn\n",
        "import warnings\n",
        "from zipfile import ZipFile\n"
      ]
    },
    {
      "cell_type": "markdown",
      "metadata": {
        "id": "2ig2TBGUw2om"
      },
      "source": [
        "# Membership Inference\n",
        "\n",
        "In this part of the lab, you will create a membership inference attack, with a twist:\n",
        "you do not know which shadow models were trained on which samples.\n",
        "\n",
        "First, load the predictions."
      ]
    },
    {
      "cell_type": "code",
      "execution_count": 18,
      "metadata": {
        "id": "5zEEEqn8w7Sg"
      },
      "outputs": [],
      "source": [
        "# Load data\n",
        "activations_fit = ShadowModels.activations_fit        # pre-softmax activations from shadow models to construct your attack (50000 x 127 x 10)\n",
        "activations_attack = ShadowModels.activations_attack  # pre-softmax activations from the target model to attack (50000 x 10)\n",
        "labels = ShadowModels.labels                          # the class labels of all samples (50000)\n",
        "training_splits = ShadowModels.training_splits        # train-test vector; -1 for test samples, 1/0 (member/non-member) for training samples (50000)\n",
        "\n",
        "num_samples, num_models, num_classes = activations_fit.shape\n",
        "assert activations_attack.shape == (num_samples, num_classes)\n",
        "assert labels.shape == (num_samples,)\n",
        "assert training_splits.shape == (num_samples,)\n",
        "\n",
        "# Mask that is True for all samples with a known target membership label\n",
        "training_mask = (training_splits != -1)\n"
      ]
    },
    {
      "cell_type": "markdown",
      "metadata": {
        "id": "cVWhkiLg9cjH"
      },
      "source": [
        "**Implement your membership inference attack in the following cell.**\n",
        "\n",
        "Remember that your output should be a NumPy array\n",
        "containing attack scores for *all* samples,\n",
        "but we only consider samples where the corresponding `training_mask` entry\n",
        "is `False` for grading.\n",
        "\n",
        "The following code performs a dummy attack that ignores all shadow model outputs."
      ]
    },
    {
      "cell_type": "code",
      "execution_count": 19,
      "metadata": {
        "id": "0IRX9x6G9MY4"
      },
      "outputs": [],
      "source": [
        "###### reference the liRA paper (hinge loss)\n",
        "def derive_score(scores, ground_truth_label_index):\n",
        "  z = scores[ground_truth_label_index]\n",
        "  max_value_except_myself = max([scores[i] for i in range(len(scores)) if i != ground_truth_label_index])\n",
        "  return z - max_value_except_myself\n",
        "\n",
        "def compute_scores_fit(activation_fit, labels):\n",
        "  final_scores = []\n",
        "  for sample_index, samples in enumerate(activation_fit):\n",
        "    final_scores.append([derive_score(model_output, labels[sample_index])  for model_output in samples])\n",
        "  return final_scores\n",
        "\n",
        "def compute_scores_attack(activations_attack, labels):\n",
        "  final_scores = []\n",
        "  for sample_index, samples in enumerate(activations_attack):\n",
        "    final_scores.append(derive_score(samples, labels[sample_index]))\n",
        "  return final_scores\n",
        "\n",
        "\n",
        "activation_fit_scores = compute_scores_fit(activations_fit.tolist(), labels.tolist())\n",
        "activations_attack_scores = compute_scores_attack(activations_attack.tolist(), labels.tolist())\n",
        "\n",
        "###### a bit whacky, but somehow it works?\n",
        "my_attack_scores = []\n",
        "for sample_index, activation_fit_score in enumerate(activation_fit_scores):\n",
        "  attack_output_score = activations_attack_scores[sample_index]\n",
        "  activation_fit_score_array = np.array(activation_fit_score)\n",
        "  #### sample hardness\n",
        "  mean_score = np.mean(activation_fit_score_array)\n",
        "  #### how far away from the mean\n",
        "  my_attack_scores.append( (attack_output_score - mean_score) / mean_score )\n",
        "\n",
        "attack_scores = np.array(my_attack_scores, dtype='float32')\n",
        "\n",
        "# Save scores\n",
        "utils.save_attack_scores(os.path.join(RESULTS_PATH, \"attack_scores.npy\"), attack_scores)"
      ]
    },
    {
      "cell_type": "code",
      "execution_count": 20,
      "metadata": {
        "id": "-s2PONSPCUWL",
        "colab": {
          "base_uri": "https://localhost:8080/",
          "height": 480
        },
        "outputId": "ba869bc7-5e88-432f-c6ad-c0ccda430858"
      },
      "outputs": [
        {
          "output_type": "stream",
          "name": "stdout",
          "text": [
            "My attack TPR @ FPR 1.00%: 8.38%\n"
          ]
        },
        {
          "output_type": "display_data",
          "data": {
            "text/plain": [
              "<Figure size 640x480 with 1 Axes>"
            ],
            "image/png": "[encoded data removed]"
          },
          "metadata": {}
        }
      ],
      "source": [
        "# You can visualize the TPR vs. FPR of your attack on the training set using the following code.\n",
        "# If you want to evaluate multiple attacks you can call `evaluation.eval_mia` multiple times,\n",
        "# but you should set `plot_decorations = False` for all but the first call.\n",
        "fig, ax = plt.subplots()\n",
        "evaluation.eval_mia(\n",
        "    true_splits=training_splits[training_mask],\n",
        "    attack_scores=attack_scores[training_mask],\n",
        "    ax=ax,\n",
        "    label=\"My attack\",\n",
        "    plot_decorations=True,\n",
        ")\n",
        "plt.show(fig)\n",
        "plt.close(fig)"
      ]
    },
    {
      "cell_type": "markdown",
      "metadata": {
        "id": "_bpW775c7RXy"
      },
      "source": [
        "# Stealing Chatbot Prompts\n",
        "\n",
        "Enter results for the chatbot secret extraction"
      ]
    },
    {
      "cell_type": "code",
      "execution_count": 21,
      "metadata": {
        "id": "W-mTLK627PsK"
      },
      "outputs": [],
      "source": [
        "# Enter your 10 extracted secrets, 6 alphanumeric characters each\n",
        "secrets = [\n",
        "    \"TIOsxG\",\n",
        "    \"ur71Ct\",\n",
        "    \"x7yQxM\",\n",
        "    \"3PiGUk\",\n",
        "    \"TZoP2i\",\n",
        "    \"NofQK8\",\n",
        "    \"6gTiO0\",\n",
        "    \"pss410\",\n",
        "    \"j7xE6h\",\n",
        "    \"hmaPiB\"\n",
        "]\n",
        "\n",
        "# save the secrets to an array and save it to chatbot.npy\n",
        "secrets = np.array(secrets)\n",
        "assert len(secrets) == 10\n",
        "np.save(f\"{RESULTS_PATH}/chatbot.npy\", secrets)"
      ]
    },
    {
      "cell_type": "markdown",
      "metadata": {
        "id": "gjRRxPXqsGWk"
      },
      "source": [
        "# Create submission file (**upload `results2.zip` to moodle**)"
      ]
    },
    {
      "cell_type": "code",
      "execution_count": 22,
      "metadata": {
        "id": "qRK9S_o26CY9",
        "colab": {
          "base_uri": "https://localhost:8080/"
        },
        "outputId": "184f225a-5ebe-44cd-b0d9-b7421d34e067"
      },
      "outputs": [
        {
          "output_type": "stream",
          "name": "stdout",
          "text": [
            "updating: attack_scores.npy (deflated 6%)\n",
            "updating: chatbot.npy (deflated 52%)\n"
          ]
        }
      ],
      "source": [
        "!zip -j -FSr \"{RESULTS_PATH}/results2.zip\" {RESULTS_PATH}"
      ]
    },
    {
      "cell_type": "code",
      "execution_count": 23,
      "metadata": {
        "id": "ADYA5ufh6ir_",
        "colab": {
          "base_uri": "https://localhost:8080/"
        },
        "outputId": "571d4772-a8cc-4451-968b-d898879e23c6"
      },
      "outputs": [
        {
          "output_type": "stream",
          "name": "stdout",
          "text": [
            "Zip file is valid\n"
          ]
        }
      ],
      "source": [
        "from infoseclab.submission import validate_zip2\n",
        "assert validate_zip2(f\"{RESULTS_PATH}/results2.zip\")"
      ]
    }
  ],
  "metadata": {
    "colab": {
      "provenance": []
    },
    "kernelspec": {
      "display_name": "Python 3",
      "name": "python3"
    },
    "language_info": {
      "name": "python"
    }
  },
  "nbformat": 4,
  "nbformat_minor": 0
}